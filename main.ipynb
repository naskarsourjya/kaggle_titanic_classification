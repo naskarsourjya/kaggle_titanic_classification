{
 "cells": [
  {
   "cell_type": "code",
   "execution_count": null,
   "id": "acb3fbaa",
   "metadata": {},
   "outputs": [],
   "source": [
    "import pandas as pd\n",
    "from module import *\n",
    "from sklearn.svm import SVC\n",
    "from sklearn.ensemble import RandomForestClassifier\n",
    "from sklearn.tree import DecisionTreeClassifier\n",
    "from sklearn.linear_model import LogisticRegression\n",
    "from catboost import CatBoostClassifier\n",
    "from sklearn.preprocessing import StandardScaler\n",
    "from sklearn.decomposition import PCA\n",
    "from sklearn.pipeline import Pipeline"
   ]
  },
  {
   "cell_type": "code",
   "execution_count": null,
   "id": "9ca3b5d9",
   "metadata": {},
   "outputs": [],
   "source": [
    "df_train = pd.read_csv('data/train.csv')\n",
    "df_train.head()"
   ]
  },
  {
   "cell_type": "code",
   "execution_count": null,
   "id": "dfe7f0fe",
   "metadata": {},
   "outputs": [],
   "source": [
    "df_train.shape"
   ]
  },
  {
   "cell_type": "code",
   "execution_count": null,
   "id": "8ed32683",
   "metadata": {},
   "outputs": [],
   "source": [
    "preprocessor = OnePreprocessor(data=df_train, x_label=['Pclass', 'Sex', 'Age', 'SibSp', 'Parch', 'Cabin', 'Embarked'], y_label=['Survived'])\n",
    "preprocessor.split_data(test_size=0.2, random_state=0)"
   ]
  },
  {
   "cell_type": "code",
   "execution_count": null,
   "id": "fa81cd1d",
   "metadata": {},
   "outputs": [],
   "source": [
    "preprocessor.data_imputer(num_strategy='median', cat_strategy='most_frequent')\n",
    "preprocessor.hot_encode_categories()"
   ]
  },
  {
   "cell_type": "code",
   "execution_count": null,
   "id": "b7dbdd8c",
   "metadata": {},
   "outputs": [],
   "source": [
    "preprocess_pipeline = Pipeline([\n",
    "    (\"scaler\", StandardScaler())    # Step 2: PCA\n",
    "])\n",
    "preprocessor.preprocess_all(pipeline=preprocess_pipeline)"
   ]
  },
  {
   "cell_type": "code",
   "execution_count": null,
   "id": "8e4a141c",
   "metadata": {},
   "outputs": [],
   "source": [
    "classifier = OneClassifier(file_name='results_titanic.csv', OnePreprocessor=preprocessor)\n",
    "models_dict = {'models': [CatBoostClassifier(), RandomForestClassifier(), SVC(), DecisionTreeClassifier(), LogisticRegression()]}\n",
    "classifier.set_models(models_dict=models_dict)"
   ]
  },
  {
   "cell_type": "code",
   "execution_count": null,
   "id": "acaab64d",
   "metadata": {},
   "outputs": [],
   "source": [
    "classifier.train_models()\n",
    "classifier.evaluate_models()"
   ]
  }
 ],
 "metadata": {
  "kernelspec": {
   "display_name": "data_science",
   "language": "python",
   "name": "python3"
  },
  "language_info": {
   "codemirror_mode": {
    "name": "ipython",
    "version": 3
   },
   "file_extension": ".py",
   "mimetype": "text/x-python",
   "name": "python",
   "nbconvert_exporter": "python",
   "pygments_lexer": "ipython3",
   "version": "3.12.11"
  }
 },
 "nbformat": 4,
 "nbformat_minor": 5
}
